{
 "cells": [
  {
   "cell_type": "code",
   "execution_count": 1,
   "metadata": {},
   "outputs": [],
   "source": [
    "import pandas as pd\n",
    "import numpy as np\n",
    "import sys\n",
    "import pickle as pkl\n",
    "import pickle\n",
    "import joblib\n",
    "import itertools\n",
    "from math import ceil \n",
    "\n",
    "#Classifier imports\n",
    "from sklearn.linear_model import LogisticRegression\n",
    "from sklearn.svm import SVC, LinearSVC, NuSVC\n",
    "\n",
    "# Performance metrics\n",
    "import math\n",
    "from sklearn.metrics import confusion_matrix\n",
    "from sklearn.metrics import accuracy_score, classification_report\n",
    "from sklearn.preprocessing import StandardScaler,LabelEncoder\n",
    "from sklearn.model_selection import GridSearchCV"
   ]
  },
  {
   "cell_type": "code",
   "execution_count": 2,
   "metadata": {},
   "outputs": [],
   "source": [
    "# load  preprocessed dataset\n",
    "data=pd.read_csv(\"Train.csv\")\n",
    "\n",
    "data_new=data.values\n",
    "\n",
    "X=data_new[:,:-1] \n",
    "Y=data_new[:,-1]\n",
    "\n",
    "#train-test split\n",
    "from sklearn.model_selection import train_test_split\n",
    "x_train, x_test, y_train, y_test = train_test_split( X, Y, test_size=0.30,random_state=7)"
   ]
  },
  {
   "cell_type": "code",
   "execution_count": 3,
   "metadata": {},
   "outputs": [],
   "source": [
    "scaler=StandardScaler()\n",
    "x_train=scaler.fit_transform(x_train)\n",
    "joblib.dump(scaler, 'ss.pkl')\n",
    "x_test=scaler.transform(x_test)"
   ]
  },
  {
   "cell_type": "code",
   "execution_count": 5,
   "metadata": {},
   "outputs": [
    {
     "name": "stdout",
     "output_type": "stream",
     "text": [
      "The model trained in 230.46 seconds\n"
     ]
    },
    {
     "name": "stderr",
     "output_type": "stream",
     "text": [
      "E:\\ProgramData\\Anaconda3\\envs\\tf_gpu\\lib\\site-packages\\sklearn\\svm\\_base.py:947: ConvergenceWarning: Liblinear failed to converge, increase the number of iterations.\n",
      "  \"the number of iterations.\", ConvergenceWarning)\n"
     ]
    }
   ],
   "source": [
    "LSVC_model2=LinearSVC(tol=1,C=1.5)\n",
    "from time import time\n",
    "t0 = time()\n",
    "New_LSVC_Model=LSVC_model2.fit(x_train,y_train)\n",
    "tf = time() - t0\n",
    "print (\"The model trained in {} seconds\".format(round(tf, 3)))"
   ]
  },
  {
   "cell_type": "code",
   "execution_count": 6,
   "metadata": {},
   "outputs": [
    {
     "name": "stdout",
     "output_type": "stream",
     "text": [
      "Train accuracy: 90.26972086550794\n",
      "Validation Accuracy : 90.39903226319895\n"
     ]
    }
   ],
   "source": [
    "#train accuracy\n",
    "print(\"Train accuracy:\",New_LSVC_Model.score(x_train,y_train)*100)\n",
    "#validation accuracy\n",
    "y_pred = New_LSVC_Model.predict(x_test)\n",
    "print(\"Validation Accuracy :\", accuracy_score(y_test, y_pred)*100)\n"
   ]
  },
  {
   "cell_type": "code",
   "execution_count": 7,
   "metadata": {},
   "outputs": [
    {
     "name": "stdout",
     "output_type": "stream",
     "text": [
      "              precision    recall  f1-score   support\n",
      "\n",
      "      Benign      0.878     0.987     0.929    200624\n",
      "      Attack      0.970     0.758     0.851    113511\n",
      "\n",
      "    accuracy                          0.904    314135\n",
      "   macro avg      0.924     0.872     0.890    314135\n",
      "weighted avg      0.911     0.904     0.901    314135\n",
      "\n"
     ]
    }
   ],
   "source": [
    "target_names = ['Benign', 'Attack']\n",
    "print(classification_report(y_test, y_pred, target_names=target_names, digits=3))"
   ]
  },
  {
   "cell_type": "code",
   "execution_count": 10,
   "metadata": {},
   "outputs": [],
   "source": [
    "#######Save the new model\n",
    "pickle.dump(New_LSVC_Model, open(\"LSVC.dat\", \"wb\"))"
   ]
  },
  {
   "cell_type": "code",
   "execution_count": 8,
   "metadata": {},
   "outputs": [
    {
     "name": "stdout",
     "output_type": "stream",
     "text": [
      "Confusion matrix:\n",
      "[[197987   2637]\n",
      " [ 27523  85988]]\n",
      "\n",
      "Total number of true positives(Attack identified as Attack)) 85988\n",
      "Total number of false negatives (Attack identified as Benign) 27523\n",
      "Total number of false positives(Benign identified as Attack) 2637\n",
      "Total number of true negatives (Benign identified as Benign) 197987\n",
      "Real positives: 113511\n",
      "Real negatives: 200624\n",
      "Predicted positives: 88625\n",
      "Predicted negatives: 225510\n",
      "True Positive Rate (TPR/Recall/Sensitivity/Hit rate): 0.7575301072142788\n",
      "False Positive Rate (FPR)/Fall out: 0.013143990748863545\n",
      "False Negative Rate (FNR/Miss Rate): 0.2424698927857212\n",
      "True Negative Rate (TNR/Specificity/selectivity): 0.9868560092511365\n",
      "Total number of correct predictions(Precision/Positive Predictive value/PPV): 0.9702454160789845\n",
      "Negative Predictive value (NPV): 0.8779521972418075\n",
      "False Discovery Rate (FDR): 0.029754583921015515\n",
      "F1-Score: 0.8507935251513834\n",
      "Informedness: 0.7443861164654153\n",
      "Markedness: 0.848197613320792\n",
      "Accuracy: 0.9039903226319894\n",
      "Misclassification/ error rate 0.09600967736801058\n"
     ]
    }
   ],
   "source": [
    "res = confusion_matrix(y_test,y_pred)\n",
    "print(\"Confusion matrix:\")\n",
    "print(res)\n",
    "\n",
    "tn = res[0][0]\n",
    "fp = res[0][1]\n",
    "fn = res[1][0]\n",
    "tp = res[1][1]\n",
    "\n",
    "print(\"\\nTotal number of true positives(Attack identified as Attack))\", tp)\n",
    "\n",
    "print(\"Total number of false negatives (Attack identified as Benign)\",fn)\n",
    "\n",
    "print(\"Total number of false positives(Benign identified as Attack)\",fp)\n",
    "\n",
    "print(\"Total number of true negatives (Benign identified as Benign)\",tn)\n",
    "\n",
    "rp=tp+fn\n",
    "rn=fp+tn\n",
    "pp=tp+fp\n",
    "pn=tn+fn\n",
    "\n",
    "print(\"Real positives:\",rp)\n",
    "print(\"Real negatives:\",rn)\n",
    "print(\"Predicted positives:\",pp)\n",
    "print(\"Predicted negatives:\",pn)\n",
    "\n",
    "tpr = float(tp)/(tp+fn)\n",
    "print(\"True Positive Rate (TPR/Recall/Sensitivity/Hit rate):\", tpr)\n",
    "\n",
    "fpr = float(fp)/(fp+tn)\n",
    "print(\"False Positive Rate (FPR)/Fall out:\",fpr)\n",
    "\n",
    "fnr = fn/ (fn+ tp)\n",
    "print(\"False Negative Rate (FNR/Miss Rate):\",fnr)\n",
    "\n",
    "specificity = float (tn)/(tn+fp)\n",
    "\n",
    "print (\"True Negative Rate (TNR/Specificity/selectivity):\", specificity)\n",
    "\n",
    "precision=float(tp)/(tp+fp)\n",
    "\n",
    "print(\"Total number of correct predictions(Precision/Positive Predictive value/PPV):\",precision)\n",
    "\n",
    "npv = tn / (tn + fn)\n",
    "print(\"Negative Predictive value (NPV):\",npv)\n",
    "\n",
    "fdr = fp/ (fp + tp)\n",
    "\n",
    "print(\"False Discovery Rate (FDR):\",fdr)\n",
    "\n",
    "fScore = 2*((precision*tpr)/(precision+tpr))\n",
    "\n",
    "print(\"F1-Score:\", fScore)\n",
    "\n",
    "informedness= tpr + specificity -1\n",
    "\n",
    "print(\"Informedness:\", informedness)\n",
    "\n",
    "\n",
    "markedness = precision + npv -1\n",
    "print(\"Markedness:\", markedness)\n",
    "\n",
    "\n",
    "acc=float(tp+tn)/(tp+tn+fp+fn)\n",
    "print(\"Accuracy:\", acc)\n",
    "\n",
    "error_rate= 1-acc\n",
    "\n",
    "print ( \"Misclassification/ error rate\",error_rate)"
   ]
  },
  {
   "cell_type": "code",
   "execution_count": 9,
   "metadata": {},
   "outputs": [
    {
     "data": {
      "image/png": "[encoded data removed]",
      "text/plain": [
       "<Figure size 504x360 with 2 Axes>"
      ]
     },
     "metadata": {},
     "output_type": "display_data"
    }
   ],
   "source": [
    "import matplotlib as mpl\n",
    "import seaborn as sns\n",
    "import matplotlib.pyplot as plt\n",
    "%matplotlib inline\n",
    "res = confusion_matrix(y_test,y_pred)\n",
    "\n",
    "dpi = mpl.rcParamsDefault['figure.dpi']\n",
    "mpl.rcParams['figure.dpi'] = dpi * 1.5\n",
    "\n",
    "sns.set(font_scale=1.5)\n",
    "fig,ax = plt.subplots(figsize=(7,5))\n",
    "sns.heatmap (res,annot=True,fmt=\"d\",annot_kws={\"size\": 16}, cmap=\"Reds\", ax=ax,xticklabels=target_names,\n",
    "            yticklabels=target_names)\n",
    "plt.xlabel('Predicted output')\n",
    "plt.ylabel('Actual output')\n",
    "plt.title('Confusion Matrix')\n",
    "plt.show()"
   ]
  },
  {
   "cell_type": "code",
   "execution_count": null,
   "metadata": {},
   "outputs": [],
   "source": [
    "##############prediction on synthesized test attacks##############"
   ]
  },
  {
   "cell_type": "code",
   "execution_count": 13,
   "metadata": {},
   "outputs": [],
   "source": [
    "#predict on synthesized Slow httptest DoS attack\n",
    "\n",
    "test_data=pd.read_csv('ShttpAA1.csv')\n",
    "test_data_new=test_data.values\n",
    "\n",
    "X_test1=test_data_new[:,:-1] \n",
    "Y_test1=test_data_new[:,-1]\n",
    "\n",
    "#predict on synthesized Slowloris DoS attack\n",
    "\n",
    "test_data2=pd.read_csv('SlowAA1.csv')\n",
    "test_data_new2=test_data2.values\n",
    "\n",
    "\n",
    "X_test2=test_data_new2[:,:-1] \n",
    "Y_test2=test_data_new2[:,-1]"
   ]
  },
  {
   "cell_type": "code",
   "execution_count": 14,
   "metadata": {},
   "outputs": [],
   "source": [
    "# load model from file\n",
    "model2 = pickle.load(open(\"LSVC.dat\", \"rb\"))\n",
    "\n",
    "#load the scaler values and transform the test data\n",
    "scaler = joblib.load('ss.pkl')\n",
    "X_test1=scaler.transform(X_test1)\n",
    "X_test2=scaler.transform(X_test2)\n"
   ]
  },
  {
   "cell_type": "code",
   "execution_count": 15,
   "metadata": {},
   "outputs": [
    {
     "name": "stdout",
     "output_type": "stream",
     "text": [
      "Testing Accuracy for Slow httptest=  18.171228887594644\n",
      "Classification Report for Slow httptest:-\n",
      "               precision    recall  f1-score   support\n",
      "\n",
      "         0.0       0.14      0.93      0.25       244\n",
      "         1.0       0.84      0.06      0.11      1473\n",
      "\n",
      "    accuracy                           0.18      1717\n",
      "   macro avg       0.49      0.50      0.18      1717\n",
      "weighted avg       0.74      0.18      0.13      1717\n",
      "\n",
      "Testing Accuracy for Slowloris=  96.2890625\n",
      "Classification Report for Slowloris:-\n",
      "               precision    recall  f1-score   support\n",
      "\n",
      "         0.0       0.99      0.93      0.96       244\n",
      "         1.0       0.94      0.99      0.97       268\n",
      "\n",
      "    accuracy                           0.96       512\n",
      "   macro avg       0.97      0.96      0.96       512\n",
      "weighted avg       0.96      0.96      0.96       512\n",
      "\n"
     ]
    }
   ],
   "source": [
    "Y_pred1 = model2.predict(X_test1)\n",
    "print(\"Testing Accuracy for Slow httptest= \", model2.score(X_test1,Y_test1)*100)\n",
    "print(\"Classification Report for Slow httptest:-\\n\",classification_report(Y_test1,Y_pred1))\n",
    "\n",
    "Y_pred2 = model2.predict(X_test2)\n",
    "print(\"Testing Accuracy for Slowloris= \", model2.score(X_test2,Y_test2)*100)\n",
    "print(\"Classification Report for Slowloris:-\\n\",classification_report(Y_test2,Y_pred2))"
   ]
  },
  {
   "cell_type": "code",
   "execution_count": 19,
   "metadata": {},
   "outputs": [
    {
     "name": "stdout",
     "output_type": "stream",
     "text": [
      "Confusion matrix for Slow httptest:\n",
      "[[ 228   16]\n",
      " [1389   84]]\n",
      "\n",
      "Total number of true positives(Attack identified as Attack)) 84\n",
      "Total number of false negatives (Attack identified as Benign) 1389\n",
      "Total number of false positives(Benign identified as Attack) 16\n",
      "Total number of true negatives (Benign identified as Benign) 228\n",
      "Real positives: 1473\n",
      "Real negatives: 244\n",
      "Predicted positives: 100\n",
      "Predicted negatives: 1617 \n",
      "\n"
     ]
    }
   ],
   "source": [
    "# Compute confusion matrix for Slow httptest\n",
    "from sklearn.metrics import classification_report\n",
    "from sklearn.metrics import  confusion_matrix\n",
    "from sklearn.model_selection import train_test_split,cross_val_score,ShuffleSplit\n",
    "\n",
    "cm1 = confusion_matrix(Y_test1, Y_pred1)\n",
    "print(\"Confusion matrix for Slow httptest:\")\n",
    "print(cm1)\n",
    "tn = cm1[0][0]\n",
    "fp = cm1[0][1]\n",
    "fn = cm1[1][0]\n",
    "tp = cm1[1][1]\n",
    "\n",
    "print(\"\\nTotal number of true positives(Attack identified as Attack))\", tp)\n",
    "print(\"Total number of false negatives (Attack identified as Benign)\",fn)\n",
    "print(\"Total number of false positives(Benign identified as Attack)\",fp)\n",
    "print(\"Total number of true negatives (Benign identified as Benign)\",tn)\n",
    "\n",
    "rp=tp+fn\n",
    "rn=fp+tn\n",
    "pp=tp+fp\n",
    "pn=tn+fn\n",
    "\n",
    "print(\"Real positives:\",rp)\n",
    "print(\"Real negatives:\",rn)\n",
    "print(\"Predicted positives:\",pp)\n",
    "print(\"Predicted negatives:\",pn,\"\\n\")"
   ]
  },
  {
   "cell_type": "code",
   "execution_count": 18,
   "metadata": {},
   "outputs": [
    {
     "name": "stdout",
     "output_type": "stream",
     "text": [
      "Confusion matrix for Slowloris:\n",
      "[[228  16]\n",
      " [  3 265]]\n",
      "\n",
      "Total number of true positives(Attack identified as Attack)) 265\n",
      "Total number of false negatives (Attack identified as Benign) 3\n",
      "Total number of false positives(Benign identified as Attack) 16\n",
      "Total number of true negatives (Benign identified as Benign) 228\n",
      "Real positives: 268\n",
      "Real negatives: 244\n",
      "Predicted positives: 281\n",
      "Predicted negatives: 231 \n",
      "\n"
     ]
    }
   ],
   "source": [
    "# Compute confusion matrix for Slowloris\n",
    "from sklearn.metrics import classification_report\n",
    "from sklearn.metrics import  confusion_matrix\n",
    "from sklearn.model_selection import train_test_split,cross_val_score,ShuffleSplit\n",
    "\n",
    "cm2 = confusion_matrix(Y_test2, Y_pred2)\n",
    "print(\"Confusion matrix for Slowloris:\")\n",
    "print(cm2)\n",
    "tn = cm2[0][0]\n",
    "fp = cm2[0][1]\n",
    "fn = cm2[1][0]\n",
    "tp = cm2[1][1]\n",
    "\n",
    "print(\"\\nTotal number of true positives(Attack identified as Attack))\", tp)\n",
    "print(\"Total number of false negatives (Attack identified as Benign)\",fn)\n",
    "print(\"Total number of false positives(Benign identified as Attack)\",fp)\n",
    "print(\"Total number of true negatives (Benign identified as Benign)\",tn)\n",
    "\n",
    "rp=tp+fn\n",
    "rn=fp+tn\n",
    "pp=tp+fp\n",
    "pn=tn+fn\n",
    "\n",
    "print(\"Real positives:\",rp)\n",
    "print(\"Real negatives:\",rn)\n",
    "print(\"Predicted positives:\",pp)\n",
    "print(\"Predicted negatives:\",pn,\"\\n\")"
   ]
  },
  {
   "cell_type": "code",
   "execution_count": null,
   "metadata": {},
   "outputs": [],
   "source": []
  }
 ],
 "metadata": {
  "kernelspec": {
   "display_name": "Python 3",
   "language": "python",
   "name": "python3"
  },
  "language_info": {
   "codemirror_mode": {
    "name": "ipython",
    "version": 3
   },
   "file_extension": ".py",
   "mimetype": "text/x-python",
   "name": "python",
   "nbconvert_exporter": "python",
   "pygments_lexer": "ipython3",
   "version": "3.6.0"
  }
 },
 "nbformat": 4,
 "nbformat_minor": 2
}
